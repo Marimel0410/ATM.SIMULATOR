{
  "nbformat": 4,
  "nbformat_minor": 0,
  "metadata": {
    "colab": {
      "provenance": [],
      "authorship_tag": "ABX9TyPhRJOmHLk0L0xEuIwTNoh6",
      "include_colab_link": true
    },
    "kernelspec": {
      "name": "python3",
      "display_name": "Python 3"
    },
    "language_info": {
      "name": "python"
    }
  },
  "cells": [
    {
      "cell_type": "markdown",
      "metadata": {
        "id": "view-in-github",
        "colab_type": "text"
      },
      "source": [
        "<a href=\"https://colab.research.google.com/github/Marimel0410/ATM.SIMULATOR/blob/main/PracticaCap1.ipynb\" target=\"_parent\"><img src=\"https://colab.research.google.com/assets/colab-badge.svg\" alt=\"Open In Colab\"/></a>"
      ]
    },
    {
      "cell_type": "code",
      "source": [
        "\n",
        "try:\n",
        "    import pint\n",
        "except ImportError:\n",
        "    !pip install pint\n",
        "    import pint\n",
        "\n"
      ],
      "metadata": {
        "colab": {
          "base_uri": "https://localhost:8080/"
        },
        "id": "m0vGhXGJqls0",
        "outputId": "52182644-f069-4204-91ae-79046bdfc558"
      },
      "execution_count": 2,
      "outputs": [
        {
          "output_type": "stream",
          "name": "stdout",
          "text": [
            "Looking in indexes: https://pypi.org/simple, https://us-python.pkg.dev/colab-wheels/public/simple/\n",
            "Collecting pint\n",
            "  Downloading Pint-0.21-py3-none-any.whl (286 kB)\n",
            "\u001b[2K     \u001b[90m━━━━━━━━━━━━━━━━━━━━━━━━━━━━━━━━━━━━━━\u001b[0m \u001b[32m286.2/286.2 kB\u001b[0m \u001b[31m20.1 MB/s\u001b[0m eta \u001b[36m0:00:00\u001b[0m\n",
            "\u001b[?25hInstalling collected packages: pint\n",
            "Successfully installed pint-0.21\n"
          ]
        }
      ]
    },
    {
      "cell_type": "code",
      "source": [
        "\n",
        "try:\n",
        "    from modsim import *\n",
        "except ImportError:\n",
        "    !pip install modsimpy\n",
        "    from modsim import *\n",
        "\n"
      ],
      "metadata": {
        "colab": {
          "base_uri": "https://localhost:8080/"
        },
        "id": "OF5UIBZbqscM",
        "outputId": "5b5ae173-690e-46ef-ab0c-4b738caf038b"
      },
      "execution_count": 3,
      "outputs": [
        {
          "output_type": "stream",
          "name": "stdout",
          "text": [
            "Looking in indexes: https://pypi.org/simple, https://us-python.pkg.dev/colab-wheels/public/simple/\n",
            "Collecting modsimpy\n",
            "  Downloading modsimpy-1.1.3.tar.gz (19 kB)\n",
            "  Preparing metadata (setup.py) ... \u001b[?25l\u001b[?25hdone\n",
            "Building wheels for collected packages: modsimpy\n",
            "  Building wheel for modsimpy (setup.py) ... \u001b[?25l\u001b[?25hdone\n",
            "  Created wheel for modsimpy: filename=modsimpy-1.1.3-py3-none-any.whl size=20335 sha256=f9cb6bbce1d5d26ba8e752e6b0c67eb62422a3c05431305006f1c0a509f090eb\n",
            "  Stored in directory: /root/.cache/pip/wheels/3a/21/22/b652cf3a4fc674c3377fdeb77da04bba02954a4ea5abe331be\n",
            "Successfully built modsimpy\n",
            "Installing collected packages: modsimpy\n",
            "Successfully installed modsimpy-1.1.3\n"
          ]
        }
      ]
    },
    {
      "cell_type": "code",
      "source": [
        "\n",
        "\n",
        "# Configure Jupyter so figures appear in the notebook\n",
        "%matplotlib inline\n",
        "\n",
        "# Configure Jupyter to display the assigned value after an assignment\n",
        "%config InteractiveShell.ast_node_interactivity='last_expr_or_assign'\n",
        "\n"
      ],
      "metadata": {
        "id": "FctLeEvQq0Fe"
      },
      "execution_count": 4,
      "outputs": []
    },
    {
      "cell_type": "code",
      "source": [
        "meter = UNITS.meter"
      ],
      "metadata": {
        "colab": {
          "base_uri": "https://localhost:8080/",
          "height": 34
        },
        "id": "XRIkWn-NpvK2",
        "outputId": "d3c4def0-ac29-46b9-a9ff-a083296587ee"
      },
      "execution_count": 14,
      "outputs": [
        {
          "output_type": "execute_result",
          "data": {
            "text/plain": [
              "<Unit('meter')>"
            ],
            "text/html": [
              "meter"
            ],
            "text/latex": "$\\mathrm{meter}$"
          },
          "metadata": {},
          "execution_count": 14
        }
      ]
    },
    {
      "cell_type": "code",
      "source": [
        "second = UNITS.second "
      ],
      "metadata": {
        "colab": {
          "base_uri": "https://localhost:8080/",
          "height": 34
        },
        "id": "_d0KY7H4py89",
        "outputId": "3498e2df-31fb-4651-903f-c771cfdeb071"
      },
      "execution_count": 6,
      "outputs": [
        {
          "output_type": "execute_result",
          "data": {
            "text/plain": [
              "<Unit('second')>"
            ],
            "text/html": [
              "second"
            ],
            "text/latex": "$\\mathrm{second}$"
          },
          "metadata": {},
          "execution_count": 6
        }
      ]
    },
    {
      "cell_type": "code",
      "source": [],
      "metadata": {
        "id": "UnxOpg1vvjQv"
      },
      "execution_count": 19,
      "outputs": []
    },
    {
      "cell_type": "code",
      "source": [
        "a = 9.8 * meter / second ** 2"
      ],
      "metadata": {
        "colab": {
          "base_uri": "https://localhost:8080/",
          "height": 37
        },
        "id": "tLB1nfmNqKoc",
        "outputId": "0ac8edb7-24fa-43d2-be6f-9afe07f36479"
      },
      "execution_count": 7,
      "outputs": [
        {
          "output_type": "execute_result",
          "data": {
            "text/plain": [
              "9.8 <Unit('meter / second ** 2')>"
            ],
            "text/html": [
              "9.8 meter/second<sup>2</sup>"
            ],
            "text/latex": "$9.8\\ \\frac{\\mathrm{meter}}{\\mathrm{second}^{2}}$"
          },
          "metadata": {},
          "execution_count": 7
        }
      ]
    },
    {
      "cell_type": "code",
      "source": [
        "t = 4 * second"
      ],
      "metadata": {
        "colab": {
          "base_uri": "https://localhost:8080/",
          "height": 34
        },
        "id": "4sErdYKdqUc8",
        "outputId": "868baea6-6ec4-4844-d334-c9210e468e3b"
      },
      "execution_count": 8,
      "outputs": [
        {
          "output_type": "execute_result",
          "data": {
            "text/plain": [
              "4 <Unit('second')>"
            ],
            "text/html": [
              "4 second"
            ],
            "text/latex": "$4\\ \\mathrm{second}$"
          },
          "metadata": {},
          "execution_count": 8
        }
      ]
    },
    {
      "cell_type": "markdown",
      "source": [
        "Se calcula la Altura h = at**2/2"
      ],
      "metadata": {
        "id": "Sxv36Y1cwgUQ"
      }
    },
    {
      "cell_type": "code",
      "source": [
        "a * t**2 / 2"
      ],
      "metadata": {
        "colab": {
          "base_uri": "https://localhost:8080/",
          "height": 34
        },
        "id": "wZNARklYqa19",
        "outputId": "4322e98b-20a1-4fd2-dd49-dbaad9203ef9"
      },
      "execution_count": 20,
      "outputs": [
        {
          "output_type": "execute_result",
          "data": {
            "text/plain": [
              "78.4 <Unit('meter')>"
            ],
            "text/html": [
              "78.4 meter"
            ],
            "text/latex": "$78.4\\ \\mathrm{meter}$"
          },
          "metadata": {},
          "execution_count": 20
        }
      ]
    },
    {
      "cell_type": "markdown",
      "source": [
        "Calcule la velocidad del centavo después de t segundos. Comprueba que las unidades del resultado son correctas."
      ],
      "metadata": {
        "id": "pgYNHqn8reRj"
      }
    },
    {
      "cell_type": "markdown",
      "source": [
        "Para calcular la velocidad tomamos en cuenta que la velocidad inicial es cero y partiendo de la siguiente formula tenemos lo siguiente  v = vo + at, donde vo es la velocidad inicial que es cero, entonces nos queda que la velocidad sera v = at <3"
      ],
      "metadata": {
        "id": "m1JSRdQ6xj7f"
      }
    },
    {
      "cell_type": "code",
      "source": [
        "v = a * t"
      ],
      "metadata": {
        "colab": {
          "base_uri": "https://localhost:8080/",
          "height": 34
        },
        "id": "990xqrmyrug0",
        "outputId": "5631fc98-ceca-463f-9b51-9a4f28f21357"
      },
      "execution_count": 15,
      "outputs": [
        {
          "output_type": "execute_result",
          "data": {
            "text/plain": [
              "39.2 <Unit('meter / second')>"
            ],
            "text/html": [
              "39.2 meter/second"
            ],
            "text/latex": "$39.2\\ \\frac{\\mathrm{meter}}{\\mathrm{second}}$"
          },
          "metadata": {},
          "execution_count": 15
        }
      ]
    },
    {
      "cell_type": "markdown",
      "source": [
        "Ejercicio: ¿Por qué no tendría sentido sumar a y t? ¿Qué pasa si lo intentas?\n"
      ],
      "metadata": {
        "id": "rBhttIHesmt8"
      }
    },
    {
      "cell_type": "markdown",
      "source": [
        "No tiene sentido porque dichas magnitudes fisicas no contienen la misma unidad de medida"
      ],
      "metadata": {
        "id": "E74N-5_otfu9"
      }
    },
    {
      "cell_type": "code",
      "source": [
        "try:\n",
        "   print ( a + t)\n",
        "except:\n",
        "  print(\"Ocurre un error no se pueden sumar magnitudes fisicas con distintas unidades de medida\") "
      ],
      "metadata": {
        "colab": {
          "base_uri": "https://localhost:8080/"
        },
        "id": "iMOybrW8s0pv",
        "outputId": "84a19149-8453-414d-9e37-68edd1bebc17"
      },
      "execution_count": 25,
      "outputs": [
        {
          "output_type": "stream",
          "name": "stdout",
          "text": [
            "Ocurre un error no se pueden sumar magnitudes fisicas con distintas unidades de medida\n"
          ]
        }
      ]
    }
  ]
}